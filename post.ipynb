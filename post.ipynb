{
 "cells": [
  {
   "cell_type": "code",
   "execution_count": 13,
   "metadata": {},
   "outputs": [
    {
     "name": "stdout",
     "output_type": "stream",
     "text": [
      "b'JVBERi0xLj'\n",
      "OK\n"
     ]
    }
   ],
   "source": [
    "import base64\n",
    "import requests\n",
    "with open(\"Part1.pdf\", \"rb\") as pdf:\n",
    "    encoded_string = base64.b64encode(pdf.read())\n",
    "    pdf.close()\n",
    "print(encoded_string[:10])\n",
    "r = requests.post('http://localhost:8000/sendfile/',data={'base64string':encoded_string},stream=True)\n",
    "print(r.text)  "
   ]
  }
 ],
 "metadata": {
  "kernelspec": {
   "display_name": "Python 3.10.0 64-bit",
   "language": "python",
   "name": "python3"
  },
  "language_info": {
   "codemirror_mode": {
    "name": "ipython",
    "version": 3
   },
   "file_extension": ".py",
   "mimetype": "text/x-python",
   "name": "python",
   "nbconvert_exporter": "python",
   "pygments_lexer": "ipython3",
   "version": "3.10.0"
  },
  "orig_nbformat": 4,
  "vscode": {
   "interpreter": {
    "hash": "07fcc30a38d1ecd00416a20ffc3bb9ba1ff350e42774c526eac392e139b99617"
   }
  }
 },
 "nbformat": 4,
 "nbformat_minor": 2
}

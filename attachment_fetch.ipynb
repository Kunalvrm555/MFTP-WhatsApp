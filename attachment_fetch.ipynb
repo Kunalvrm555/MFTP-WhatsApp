{
 "cells": [
  {
   "cell_type": "code",
   "execution_count": 395,
   "metadata": {},
   "outputs": [],
   "source": [
    "from dotenv import load_dotenv, find_dotenv\n",
    "import os\n",
    "import ssl\n",
    "env= os.environ\n",
    "from collections.abc import MutableMapping"
   ]
  },
  {
   "cell_type": "code",
   "execution_count": 396,
   "metadata": {},
   "outputs": [],
   "source": [
    "from bs4 import BeautifulSoup as bs,CData\n",
    "import requests\n",
    "import sys\n",
    "import re\n",
    "import hashlib\n",
    "from requests.packages.urllib3.exceptions import InsecureRequestWarning\n",
    "import collections.abc\n",
    "collections.Callable = collections.abc.Callable\n",
    "# from pymongo import MongoClient\n",
    "from copy import copy as shallow_copy\n",
    "requests.packages.urllib3.disable_warnings(InsecureRequestWarning)"
   ]
  },
  {
   "cell_type": "code",
   "execution_count": 397,
   "metadata": {},
   "outputs": [],
   "source": [
    "ERP_HOMEPAGE_URL = 'https://erp.iitkgp.ac.in/IIT_ERP3/welcome.jsp'\n",
    "ERP_LOGIN_URL = 'https://erp.iitkgp.ac.in/SSOAdministration/auth.htm'\n",
    "ERP_SECRET_QUESTION_URL = 'https://erp.iitkgp.ac.in/SSOAdministration/getSecurityQues.htm'\n",
    "ERP_CDC_MODULE_URL = 'https://erp.iitkgp.ac.in/IIT_ERP3/menulist.htm?module_id=26'\n",
    "ERP_ACAD_MODULE_URL = 'https://erp.iitkgp.ac.in/IIT_ERP3/menulist.htm?module_id=16'\n",
    "ERP_TPSTUDENT_URL = 'https://erp.iitkgp.ac.in/TrainingPlacementSSO/TPStudent.jsp'\n",
    "\n"
   ]
  },
  {
   "cell_type": "code",
   "execution_count": 398,
   "metadata": {},
   "outputs": [],
   "source": [
    "req_args = {\n",
    "    'timeout': 20,\n",
    "    'headers': {\n",
    "        'User-Agent': 'Mozilla/5.0 (Macintosh; Intel Mac OS X 10_11_1) AppleWebKit/537.36 (KHTML, like Gecko) '\n",
    "                      'Chrome/46.0.2490.86 Safari/537.36',\n",
    "        'Referer':\n",
    "        'https://erp.iitkgp.ac.in/SSOAdministration/login.htm?sessionToken=595794DC220159D1CBD10DB69832EF7E.worker3',\n",
    "    },\n",
    "    'verify': False\n",
    "}\n"
   ]
  },
  {
   "cell_type": "code",
   "execution_count": 399,
   "metadata": {},
   "outputs": [
    {
     "name": "stdout",
     "output_type": "stream",
     "text": [
      "Failed to fetch secret question: please check that username and password are valid!\n",
      "Please check your secret answer settings!\n"
     ]
    }
   ],
   "source": [
    "\n",
    "class WrongPasswordError(Exception):\n",
    "    \"\"\"\n",
    "    Error which is raised when there no secret question is fetched due to wrong password or other reasons.\n",
    "\n",
    "    \"\"\"\n",
    "    print(\"Failed to fetch secret question: please check that username and password are valid!\")\n",
    "\n",
    "\n",
    "class SecretAnswerError(Exception):\n",
    "    \"\"\"\n",
    "    Error which is raised when there is issue with user's secret answer settings\n",
    "\n",
    "    \"\"\"\n",
    "    print(\"Please check your secret answer settings!\")\n",
    "\n"
   ]
  },
  {
   "cell_type": "code",
   "execution_count": 400,
   "metadata": {},
   "outputs": [
    {
     "name": "stdout",
     "output_type": "stream",
     "text": [
      "Started erp_login!\n"
     ]
    }
   ],
   "source": [
    "print(\"Started erp_login!\")\n",
    "\n",
    "session = requests.Session()\n",
    "\n",
    "r = session.get(ERP_HOMEPAGE_URL, **req_args)\n",
    "soup = bs(r.text, 'html.parser')\n",
    "\n",
    "# print (\"Length of the fetched HTML: \" + str(len(str(r.text))))\n",
    "# print (r.text)"
   ]
  },
  {
   "cell_type": "code",
   "execution_count": 401,
   "metadata": {},
   "outputs": [
    {
     "name": "stdout",
     "output_type": "stream",
     "text": [
      "nickname\n"
     ]
    }
   ],
   "source": [
    "if soup.find(id='sessionToken'):\n",
    "    sessionToken = soup.find(id='sessionToken').attrs['value']\n",
    "else:\n",
    "    raise Exception(\"Could not get the sessionToken!\")\n",
    "\n",
    "r = session.post(ERP_SECRET_QUESTION_URL, data={'user_id': env[\"ERP_USERNAME\"]},**req_args)\n",
    "secret_question = r.text\n",
    "print(secret_question)\n",
    "\n",
    "if secret_question is None:\n",
    "    raise WrongPasswordError\n",
    "\n",
    "# print (\"Secret question from the ERP: \" + secret_question)\n",
    "secret_answer = None\n",
    "secret_answer_index = None\n",
    "\n",
    "for i in range(1, 4):\n",
    "    # print (env['ERP_Q%d'%i])\n",
    "    if (env['ERP_Q%d'%i] == secret_question):\n",
    "        secret_answer = env['ERP_A%d'%i]\n",
    "        secret_answer_index = i\n",
    "        break\n",
    "# print(secret_answer_index)\n",
    "# print(secret_answer)\n",
    "if secret_answer is None:\n",
    "    print ('No secret question matched:', secret_question)\n",
    "    sys.exit(1)"
   ]
  },
  {
   "cell_type": "code",
   "execution_count": 402,
   "metadata": {},
   "outputs": [
    {
     "name": "stdout",
     "output_type": "stream",
     "text": [
      "ERP Login completed!\n"
     ]
    }
   ],
   "source": [
    "login_details = {\n",
    "        'user_id': env['ERP_USERNAME'],\n",
    "        'password': env['ERP_PASSWORD'],\n",
    "        'answer': secret_answer,\n",
    "        'sessionToken': sessionToken,\n",
    "        'requestedUrl': 'https://erp.iitkgp.ac.in/IIT_ERP3/welcome.jsp',\n",
    "    }\n",
    "\n",
    "r = session.post(ERP_LOGIN_URL, data=login_details,\n",
    "            **req_args)\n",
    "\n",
    "if len(r.history) < 2:\n",
    "    print(\"{answer} (ERP_A{index}) is wrong for {question}\".format(\n",
    "        answer=secret_answer,\n",
    "        index=secret_answer_index,\n",
    "        question=secret_question\n",
    "    ))\n",
    "    raise SecretAnswerError\n",
    "ssoToken = re.search(r'\\?ssoToken=(.+)$',\n",
    "                        r.history[1].headers['Location']).group(1)\n",
    "print (\"ERP Login completed!\")"
   ]
  },
  {
   "cell_type": "code",
   "execution_count": 403,
   "metadata": {},
   "outputs": [],
   "source": [
    "r = session.get(\"https://erp.iitkgp.ac.in/IIT_ERP3/?%s\" % ssoToken, **req_args)"
   ]
  },
  {
   "cell_type": "code",
   "execution_count": 404,
   "metadata": {},
   "outputs": [],
   "source": [
    "NUM_NOTICES_DIFFED=50\n",
    "ERP_COMPANIES_URL = 'https://erp.iitkgp.ac.in/TrainingPlacementSSO/ERPMonitoring.htm?action=fetchData&jqqueryid=37&_search=false&nd=1448725351715&rows=20&page=1&sidx=&sord=asc&totalrows=50'\n",
    "ERP_NOTICEBOARD_URL = 'https://erp.iitkgp.ac.in/TrainingPlacementSSO/Notice.jsp'\n",
    "ERP_NOTICES_URL = 'https://erp.iitkgp.ac.in/TrainingPlacementSSO/ERPMonitoring.htm?action=fetchData&jqqueryid=54&_search=false&nd=1448884994803&rows=20&page=1&sidx=&sord=asc&totalrows=50'\n",
    "ERP_ATTACHMENT_URL = 'https://erp.iitkgp.ac.in/TrainingPlacementSSO/AdmFilePDF.htm?type=NOTICE&year={}&id={}'\n",
    "ERP_NOTICE_CONTENT_URL = 'https://erp.iitkgp.ac.in/TrainingPlacementSSO/ShowContent.jsp?year=%s&id=%s'"
   ]
  },
  {
   "cell_type": "code",
   "execution_count": 405,
   "metadata": {},
   "outputs": [
    {
     "name": "stderr",
     "output_type": "stream",
     "text": [
      "c:\\Users\\kunal\\AppData\\Local\\Programs\\Python\\Python310\\lib\\site-packages\\bs4\\builder\\__init__.py:545: XMLParsedAsHTMLWarning: It looks like you're parsing an XML document using an HTML parser. If this really is an HTML document (maybe it's XHTML?), you can ignore or filter this warning. If it's XML, you should know that using an XML parser will be more reliable. To parse this document as XML, make sure you have the lxml package installed, and pass the keyword argument `features=\"xml\"` into the BeautifulSoup constructor.\n",
      "  warnings.warn(\n"
     ]
    }
   ],
   "source": [
    "r = session.get(ERP_NOTICEBOARD_URL, **req_args)\n",
    "r = session.get(ERP_NOTICES_URL, **req_args)\n",
    "notices_list = bs(r.text, 'html.parser')\n",
    "# print (\"Total number of notices fetched: %d\" % len(notices_list.find_all('row')))"
   ]
  },
  {
   "cell_type": "code",
   "execution_count": 406,
   "metadata": {},
   "outputs": [],
   "source": [
    "attachment_args = {\n",
    "    'timeout': 20,\n",
    "    'headers': {\n",
    "        'User-Agent': 'Mozilla/5.0 (Macintosh; Intel Mac OS X 10_11_1) AppleWebKit/537.36 (KHTML, like Gecko) '\n",
    "                      'Chrome/46.0.2490.86 Safari/537.36',\n",
    "        'Referer':\n",
    "        'https://erp.iitkgp.ac.in/SSOAdministration/login.htm?sessionToken=595794DC220159D1CBD10DB69832EF7E.worker3',\n",
    "        'Cookie': env['COOKIE'],\n",
    "    },\n",
    "    'verify': False\n",
    "}"
   ]
  },
  {
   "cell_type": "code",
   "execution_count": 407,
   "metadata": {},
   "outputs": [
    {
     "name": "stdout",
     "output_type": "stream",
     "text": [
      "https://erp.iitkgp.ac.in/TrainingPlacementSSO/AdmFilePDF.htm?type=NOTICE&year=2022-2023&id=14\n",
      "{'Date': 'Sun, 10 Jul 2022 23:47:30 GMT', 'Server': 'Apache', 'X-FRAME-OPTIONS': 'SAMEORIGIN', 'X-XSS-Protection': '1; mode=block', 'X-Content-Type-Options': 'nosniff', 'Keep-Alive': 'timeout=5, max=100', 'Connection': 'Keep-Alive', 'Transfer-Encoding': 'chunked', 'Content-Type': 'application/pdf'}\n"
     ]
    }
   ],
   "source": [
    "import requests\n",
    "url = ERP_ATTACHMENT_URL.format('2022-2023', '14');\n",
    "print(url)\n",
    "r = requests.get(url, stream=True, **attachment_args)\n",
    "print(r.headers)  "
   ]
  },
  {
   "cell_type": "code",
   "execution_count": 408,
   "metadata": {},
   "outputs": [],
   "source": [
    "notice = {}\n",
    "notice['attachment_raw'] = b''\n",
    "for chunk in r.iter_content(4096):\n",
    "    notice['attachment_raw'] += chunk\n",
    "# print(notice['attachment_raw'])"
   ]
  },
  {
   "cell_type": "code",
   "execution_count": 409,
   "metadata": {},
   "outputs": [
    {
     "name": "stdout",
     "output_type": "stream",
     "text": [
      "b'JVBERi0xLj'\n",
      "OK\n"
     ]
    }
   ],
   "source": [
    "import base64\n",
    "encoded_string = base64.b64encode(notice['attachment_raw'])\n",
    "print(encoded_string[:10])\n",
    "r = requests.post('http://localhost:8000/sendfile/',data={'base64string':encoded_string},stream=True)\n",
    "print(r.text)  "
   ]
  }
 ],
 "metadata": {
  "kernelspec": {
   "display_name": "Python 3.10.0 64-bit",
   "language": "python",
   "name": "python3"
  },
  "language_info": {
   "codemirror_mode": {
    "name": "ipython",
    "version": 3
   },
   "file_extension": ".py",
   "mimetype": "text/x-python",
   "name": "python",
   "nbconvert_exporter": "python",
   "pygments_lexer": "ipython3",
   "version": "3.10.0"
  },
  "orig_nbformat": 4,
  "vscode": {
   "interpreter": {
    "hash": "07fcc30a38d1ecd00416a20ffc3bb9ba1ff350e42774c526eac392e139b99617"
   }
  }
 },
 "nbformat": 4,
 "nbformat_minor": 2
}
